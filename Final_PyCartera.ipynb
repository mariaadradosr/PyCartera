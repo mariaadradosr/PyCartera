{
 "cells": [
  {
   "cell_type": "code",
   "execution_count": 1,
   "metadata": {},
   "outputs": [],
   "source": [
    "import pandas as pd\n",
    "import re\n",
    "import numpy as np\n",
    "from src import functions\n",
    "import datetime"
   ]
  },
  {
   "cell_type": "code",
   "execution_count": 2,
   "metadata": {},
   "outputs": [
    {
     "name": "stdout",
     "output_type": "stream",
     "text": [
      "Connecting to Postgree...\n",
      "\n",
      "<connection object at 0x00000146FFF918C8; dsn: 'user=oxbigdatabi password=xxx dbname=bigdatabi host=bigdatabi.ckq5duwtue6h.eu-central-1.rds.amazonaws.com', closed: 0>\n"
     ]
    }
   ],
   "source": [
    "cur = functions.connectToPs()"
   ]
  },
  {
   "cell_type": "code",
   "execution_count": 3,
   "metadata": {},
   "outputs": [],
   "source": [
    "df = functions.base(cur)"
   ]
  },
  {
   "cell_type": "code",
   "execution_count": 8,
   "metadata": {},
   "outputs": [],
   "source": [
    "df.to_csv('../df.csv ',encoding='CP1252')"
   ]
  },
  {
   "cell_type": "code",
   "execution_count": 17,
   "metadata": {},
   "outputs": [],
   "source": [
    "df_altas.to_csv('../df_altas.csv ',encoding='CP1252')"
   ]
  },
  {
   "cell_type": "code",
   "execution_count": 4,
   "metadata": {},
   "outputs": [],
   "source": [
    "df_altas = functions.base_altas(df)"
   ]
  },
  {
   "cell_type": "code",
   "execution_count": 4,
   "metadata": {},
   "outputs": [],
   "source": [
    "detalle = functions.detalle(cur)"
   ]
  },
  {
   "cell_type": "code",
   "execution_count": 5,
   "metadata": {},
   "outputs": [
    {
     "data": {
      "text/html": [
       "<div>\n",
       "<style scoped>\n",
       "    .dataframe tbody tr th:only-of-type {\n",
       "        vertical-align: middle;\n",
       "    }\n",
       "\n",
       "    .dataframe tbody tr th {\n",
       "        vertical-align: top;\n",
       "    }\n",
       "\n",
       "    .dataframe thead th {\n",
       "        text-align: right;\n",
       "    }\n",
       "</style>\n",
       "<table border=\"1\" class=\"dataframe\">\n",
       "  <thead>\n",
       "    <tr style=\"text-align: right;\">\n",
       "      <th></th>\n",
       "      <th>segmento</th>\n",
       "      <th>Family</th>\n",
       "      <th>product_name</th>\n",
       "      <th>companyname</th>\n",
       "      <th>sitename</th>\n",
       "      <th>cod_postal</th>\n",
       "      <th>created_as_trial</th>\n",
       "      <th>purchase_date</th>\n",
       "      <th>cancellation_date</th>\n",
       "      <th>service_date</th>\n",
       "      <th>...</th>\n",
       "      <th>Segmento_Empleados</th>\n",
       "      <th>assetid</th>\n",
       "      <th>asset_status</th>\n",
       "      <th>migrado</th>\n",
       "      <th>assetpadre_mig</th>\n",
       "      <th>assethijo_mig</th>\n",
       "      <th>rfb_migration</th>\n",
       "      <th>date_migration</th>\n",
       "      <th>purchase_migration</th>\n",
       "      <th>product_name_ok</th>\n",
       "    </tr>\n",
       "  </thead>\n",
       "  <tbody>\n",
       "    <tr>\n",
       "      <td>0</td>\n",
       "      <td>1-GRATIS</td>\n",
       "      <td>X PROTECTION F</td>\n",
       "      <td>X Protection</td>\n",
       "      <td>PROMOVIL</td>\n",
       "      <td>Coslada</td>\n",
       "      <td>49023</td>\n",
       "      <td>false</td>\n",
       "      <td>2019-03-26 00:00:01</td>\n",
       "      <td>NaT</td>\n",
       "      <td>2019-03-26 00:00:01</td>\n",
       "      <td>...</td>\n",
       "      <td></td>\n",
       "      <td>02i0N00000LHyy5QAD</td>\n",
       "      <td>Activated</td>\n",
       "      <td>None</td>\n",
       "      <td>None</td>\n",
       "      <td>None</td>\n",
       "      <td>NaT</td>\n",
       "      <td>NaT</td>\n",
       "      <td>NaT</td>\n",
       "      <td>X Protection</td>\n",
       "    </tr>\n",
       "    <tr>\n",
       "      <td>1</td>\n",
       "      <td>1-GRATIS</td>\n",
       "      <td>X PROTECTION F</td>\n",
       "      <td>X Protection</td>\n",
       "      <td>PROMOVIL</td>\n",
       "      <td>Coslada</td>\n",
       "      <td>49023</td>\n",
       "      <td>false</td>\n",
       "      <td>2019-03-26 00:00:01</td>\n",
       "      <td>NaT</td>\n",
       "      <td>2019-03-26 00:00:01</td>\n",
       "      <td>...</td>\n",
       "      <td></td>\n",
       "      <td>02i0N00000LHyy6QAD</td>\n",
       "      <td>Activated</td>\n",
       "      <td>None</td>\n",
       "      <td>None</td>\n",
       "      <td>None</td>\n",
       "      <td>NaT</td>\n",
       "      <td>NaT</td>\n",
       "      <td>NaT</td>\n",
       "      <td>X Protection</td>\n",
       "    </tr>\n",
       "    <tr>\n",
       "      <td>2</td>\n",
       "      <td>1-GRATIS</td>\n",
       "      <td>X PROTECTION F</td>\n",
       "      <td>X Protection</td>\n",
       "      <td>IMT TECHNOCENTRE ORANGE FRANCE</td>\n",
       "      <td>France 1</td>\n",
       "      <td>28012</td>\n",
       "      <td>true</td>\n",
       "      <td>2019-03-27 00:00:01</td>\n",
       "      <td>NaT</td>\n",
       "      <td>2019-04-26 00:00:01</td>\n",
       "      <td>...</td>\n",
       "      <td></td>\n",
       "      <td>02i0N00000LI1E0QAL</td>\n",
       "      <td>Activated</td>\n",
       "      <td>None</td>\n",
       "      <td>None</td>\n",
       "      <td>None</td>\n",
       "      <td>NaT</td>\n",
       "      <td>NaT</td>\n",
       "      <td>NaT</td>\n",
       "      <td>X Protection</td>\n",
       "    </tr>\n",
       "    <tr>\n",
       "      <td>3</td>\n",
       "      <td>1-GRATIS</td>\n",
       "      <td>X MUSIC F</td>\n",
       "      <td>X Music</td>\n",
       "      <td>IMT TECHNOCENTRE ORANGE FRANCE</td>\n",
       "      <td>France 1</td>\n",
       "      <td>28012</td>\n",
       "      <td>false</td>\n",
       "      <td>2019-03-27 00:00:01</td>\n",
       "      <td>NaT</td>\n",
       "      <td>2019-03-27 00:00:01</td>\n",
       "      <td>...</td>\n",
       "      <td></td>\n",
       "      <td>02i0N00000LI2LUQA1</td>\n",
       "      <td>Activated</td>\n",
       "      <td>None</td>\n",
       "      <td>None</td>\n",
       "      <td>None</td>\n",
       "      <td>NaT</td>\n",
       "      <td>NaT</td>\n",
       "      <td>NaT</td>\n",
       "      <td>X Music</td>\n",
       "    </tr>\n",
       "    <tr>\n",
       "      <td>4</td>\n",
       "      <td>1-GRATIS</td>\n",
       "      <td>X PROTECTION F</td>\n",
       "      <td>X Protection</td>\n",
       "      <td>ORANGE B4B TECHNOLOGIES SAU</td>\n",
       "      <td>Sede VULA Nueva Arquitectura</td>\n",
       "      <td>28012</td>\n",
       "      <td>false</td>\n",
       "      <td>2019-04-30 00:00:01</td>\n",
       "      <td>2019-05-03 08:38:50</td>\n",
       "      <td>NaT</td>\n",
       "      <td>...</td>\n",
       "      <td></td>\n",
       "      <td>02i0N00000LfcwYQAR</td>\n",
       "      <td>Cancelled</td>\n",
       "      <td>None</td>\n",
       "      <td>None</td>\n",
       "      <td>None</td>\n",
       "      <td>NaT</td>\n",
       "      <td>NaT</td>\n",
       "      <td>NaT</td>\n",
       "      <td>X Protection</td>\n",
       "    </tr>\n",
       "  </tbody>\n",
       "</table>\n",
       "<p>5 rows × 28 columns</p>\n",
       "</div>"
      ],
      "text/plain": [
       "   segmento          Family  product_name                     companyname  \\\n",
       "0  1-GRATIS  X PROTECTION F  X Protection                        PROMOVIL   \n",
       "1  1-GRATIS  X PROTECTION F  X Protection                        PROMOVIL   \n",
       "2  1-GRATIS  X PROTECTION F  X Protection  IMT TECHNOCENTRE ORANGE FRANCE   \n",
       "3  1-GRATIS       X MUSIC F       X Music  IMT TECHNOCENTRE ORANGE FRANCE   \n",
       "4  1-GRATIS  X PROTECTION F  X Protection     ORANGE B4B TECHNOLOGIES SAU   \n",
       "\n",
       "                       sitename cod_postal created_as_trial  \\\n",
       "0                       Coslada      49023            false   \n",
       "1                       Coslada      49023            false   \n",
       "2                      France 1      28012             true   \n",
       "3                      France 1      28012            false   \n",
       "4  Sede VULA Nueva Arquitectura      28012            false   \n",
       "\n",
       "        purchase_date   cancellation_date        service_date  ...  \\\n",
       "0 2019-03-26 00:00:01                 NaT 2019-03-26 00:00:01  ...   \n",
       "1 2019-03-26 00:00:01                 NaT 2019-03-26 00:00:01  ...   \n",
       "2 2019-03-27 00:00:01                 NaT 2019-04-26 00:00:01  ...   \n",
       "3 2019-03-27 00:00:01                 NaT 2019-03-27 00:00:01  ...   \n",
       "4 2019-04-30 00:00:01 2019-05-03 08:38:50                 NaT  ...   \n",
       "\n",
       "  Segmento_Empleados             assetid asset_status migrado  assetpadre_mig  \\\n",
       "0                     02i0N00000LHyy5QAD    Activated    None            None   \n",
       "1                     02i0N00000LHyy6QAD    Activated    None            None   \n",
       "2                     02i0N00000LI1E0QAL    Activated    None            None   \n",
       "3                     02i0N00000LI2LUQA1    Activated    None            None   \n",
       "4                     02i0N00000LfcwYQAR    Cancelled    None            None   \n",
       "\n",
       "  assethijo_mig rfb_migration date_migration purchase_migration  \\\n",
       "0          None           NaT            NaT                NaT   \n",
       "1          None           NaT            NaT                NaT   \n",
       "2          None           NaT            NaT                NaT   \n",
       "3          None           NaT            NaT                NaT   \n",
       "4          None           NaT            NaT                NaT   \n",
       "\n",
       "  product_name_ok  \n",
       "0    X Protection  \n",
       "1    X Protection  \n",
       "2    X Protection  \n",
       "3         X Music  \n",
       "4    X Protection  \n",
       "\n",
       "[5 rows x 28 columns]"
      ]
     },
     "execution_count": 5,
     "metadata": {},
     "output_type": "execute_result"
    }
   ],
   "source": [
    "detalle.head()"
   ]
  },
  {
   "cell_type": "code",
   "execution_count": 15,
   "metadata": {},
   "outputs": [
    {
     "data": {
      "text/html": [
       "<div>\n",
       "<style scoped>\n",
       "    .dataframe tbody tr th:only-of-type {\n",
       "        vertical-align: middle;\n",
       "    }\n",
       "\n",
       "    .dataframe tbody tr th {\n",
       "        vertical-align: top;\n",
       "    }\n",
       "\n",
       "    .dataframe thead th {\n",
       "        text-align: right;\n",
       "    }\n",
       "</style>\n",
       "<table border=\"1\" class=\"dataframe\">\n",
       "  <thead>\n",
       "    <tr style=\"text-align: right;\">\n",
       "      <th></th>\n",
       "      <th>assetid</th>\n",
       "      <th>product_name</th>\n",
       "      <th>Family</th>\n",
       "      <th>cif</th>\n",
       "      <th>canal_venta</th>\n",
       "      <th>purchase_date__c</th>\n",
       "      <th>cancellation_date</th>\n",
       "      <th>rfb__c</th>\n",
       "      <th>deactivation_date</th>\n",
       "      <th>mig_in_date</th>\n",
       "      <th>migrado</th>\n",
       "      <th>isSold</th>\n",
       "      <th>isCancelled</th>\n",
       "      <th>isAsset</th>\n",
       "      <th>isActive</th>\n",
       "      <th>isBaja</th>\n",
       "    </tr>\n",
       "  </thead>\n",
       "  <tbody>\n",
       "    <tr>\n",
       "      <td>1105</td>\n",
       "      <td>02i0N00000PfMuWQAV</td>\n",
       "      <td>Teamwork+PBX</td>\n",
       "      <td>X UCOM</td>\n",
       "      <td>B76686716</td>\n",
       "      <td>DHO</td>\n",
       "      <td>2020-01-02 00:00:01</td>\n",
       "      <td>NaT</td>\n",
       "      <td>2020-01-02 00:00:01</td>\n",
       "      <td>NaT</td>\n",
       "      <td>2020-01-07 08:52:01</td>\n",
       "      <td>1</td>\n",
       "      <td>1</td>\n",
       "      <td>0</td>\n",
       "      <td>1</td>\n",
       "      <td>1</td>\n",
       "      <td>0</td>\n",
       "    </tr>\n",
       "  </tbody>\n",
       "</table>\n",
       "</div>"
      ],
      "text/plain": [
       "                 assetid  product_name  Family        cif canal_venta  \\\n",
       "1105  02i0N00000PfMuWQAV  Teamwork+PBX  X UCOM  B76686716         DHO   \n",
       "\n",
       "        purchase_date__c cancellation_date              rfb__c  \\\n",
       "1105 2020-01-02 00:00:01               NaT 2020-01-02 00:00:01   \n",
       "\n",
       "     deactivation_date         mig_in_date migrado  isSold  isCancelled  \\\n",
       "1105               NaT 2020-01-07 08:52:01       1       1            0   \n",
       "\n",
       "      isAsset  isActive  isBaja  \n",
       "1105        1         1       0  "
      ]
     },
     "execution_count": 15,
     "metadata": {},
     "output_type": "execute_result"
    }
   ],
   "source": [
    "df[df['assetid']=='02i0N00000PfMuWQAV']"
   ]
  },
  {
   "cell_type": "markdown",
   "metadata": {},
   "source": [
    "## Ventas"
   ]
  },
  {
   "cell_type": "code",
   "execution_count": 18,
   "metadata": {},
   "outputs": [],
   "source": [
    "a = functions.ass_vta_mes(df,0)\n",
    "# a.iloc[a.index.get_level_values('Family') == 'X UCOM']"
   ]
  },
  {
   "cell_type": "code",
   "execution_count": 26,
   "metadata": {},
   "outputs": [
    {
     "data": {
      "text/plain": [
       "1290"
      ]
     },
     "execution_count": 26,
     "metadata": {},
     "output_type": "execute_result"
    }
   ],
   "source": [
    "a.iloc[0].sum()"
   ]
  },
  {
   "cell_type": "code",
   "execution_count": 28,
   "metadata": {},
   "outputs": [
    {
     "data": {
      "text/html": [
       "<div>\n",
       "<style scoped>\n",
       "    .dataframe tbody tr th:only-of-type {\n",
       "        vertical-align: middle;\n",
       "    }\n",
       "\n",
       "    .dataframe tbody tr th {\n",
       "        vertical-align: top;\n",
       "    }\n",
       "\n",
       "    .dataframe thead th {\n",
       "        text-align: right;\n",
       "    }\n",
       "</style>\n",
       "<table border=\"1\" class=\"dataframe\">\n",
       "  <thead>\n",
       "    <tr style=\"text-align: right;\">\n",
       "      <th></th>\n",
       "      <th>2018-10</th>\n",
       "      <th>2018-11</th>\n",
       "      <th>2018-12</th>\n",
       "      <th>2019-01</th>\n",
       "      <th>2019-02</th>\n",
       "      <th>2019-03</th>\n",
       "      <th>2019-04</th>\n",
       "      <th>2019-05</th>\n",
       "      <th>2019-06</th>\n",
       "      <th>2019-07</th>\n",
       "      <th>2019-08</th>\n",
       "      <th>2019-09</th>\n",
       "      <th>2019-10</th>\n",
       "      <th>2019-11</th>\n",
       "      <th>2019-12</th>\n",
       "      <th>2020-01</th>\n",
       "    </tr>\n",
       "  </thead>\n",
       "  <tbody>\n",
       "    <tr>\n",
       "      <td>isSold</td>\n",
       "      <td>3</td>\n",
       "      <td>24</td>\n",
       "      <td>34</td>\n",
       "      <td>35</td>\n",
       "      <td>56</td>\n",
       "      <td>54</td>\n",
       "      <td>41</td>\n",
       "      <td>62</td>\n",
       "      <td>137</td>\n",
       "      <td>105</td>\n",
       "      <td>23</td>\n",
       "      <td>166</td>\n",
       "      <td>173</td>\n",
       "      <td>110</td>\n",
       "      <td>131</td>\n",
       "      <td>136</td>\n",
       "    </tr>\n",
       "  </tbody>\n",
       "</table>\n",
       "</div>"
      ],
      "text/plain": [
       "        2018-10  2018-11  2018-12  2019-01  2019-02  2019-03  2019-04  \\\n",
       "isSold        3       24       34       35       56       54       41   \n",
       "\n",
       "        2019-05  2019-06  2019-07  2019-08  2019-09  2019-10  2019-11  \\\n",
       "isSold       62      137      105       23      166      173      110   \n",
       "\n",
       "        2019-12  2020-01  \n",
       "isSold      131      136  "
      ]
     },
     "execution_count": 28,
     "metadata": {},
     "output_type": "execute_result"
    }
   ],
   "source": [
    "a"
   ]
  },
  {
   "cell_type": "code",
   "execution_count": 7,
   "metadata": {},
   "outputs": [
    {
     "data": {
      "text/html": [
       "<div>\n",
       "<style scoped>\n",
       "    .dataframe tbody tr th:only-of-type {\n",
       "        vertical-align: middle;\n",
       "    }\n",
       "\n",
       "    .dataframe tbody tr th {\n",
       "        vertical-align: top;\n",
       "    }\n",
       "\n",
       "    .dataframe thead th {\n",
       "        text-align: right;\n",
       "    }\n",
       "</style>\n",
       "<table border=\"1\" class=\"dataframe\">\n",
       "  <thead>\n",
       "    <tr style=\"text-align: right;\">\n",
       "      <th></th>\n",
       "      <th>2018-10</th>\n",
       "      <th>2018-11</th>\n",
       "      <th>2018-12</th>\n",
       "      <th>2019-01</th>\n",
       "      <th>2019-02</th>\n",
       "      <th>2019-03</th>\n",
       "      <th>2019-04</th>\n",
       "      <th>2019-05</th>\n",
       "      <th>2019-06</th>\n",
       "      <th>2019-07</th>\n",
       "      <th>2019-08</th>\n",
       "      <th>2019-09</th>\n",
       "      <th>2019-10</th>\n",
       "      <th>2019-11</th>\n",
       "      <th>2019-12</th>\n",
       "      <th>2020-01</th>\n",
       "    </tr>\n",
       "  </thead>\n",
       "  <tbody>\n",
       "    <tr>\n",
       "      <td>isClient</td>\n",
       "      <td>3</td>\n",
       "      <td>5</td>\n",
       "      <td>18</td>\n",
       "      <td>13</td>\n",
       "      <td>20</td>\n",
       "      <td>14</td>\n",
       "      <td>18</td>\n",
       "      <td>21</td>\n",
       "      <td>36</td>\n",
       "      <td>36</td>\n",
       "      <td>21</td>\n",
       "      <td>40</td>\n",
       "      <td>44</td>\n",
       "      <td>39</td>\n",
       "      <td>25</td>\n",
       "      <td>39</td>\n",
       "    </tr>\n",
       "  </tbody>\n",
       "</table>\n",
       "</div>"
      ],
      "text/plain": [
       "          2018-10  2018-11  2018-12  2019-01  2019-02  2019-03  2019-04  \\\n",
       "isClient        3        5       18       13       20       14       18   \n",
       "\n",
       "          2019-05  2019-06  2019-07  2019-08  2019-09  2019-10  2019-11  \\\n",
       "isClient       21       36       36       21       40       44       39   \n",
       "\n",
       "          2019-12  2020-01  \n",
       "isClient       25       39  "
      ]
     },
     "execution_count": 7,
     "metadata": {},
     "output_type": "execute_result"
    }
   ],
   "source": [
    "functions.cli_altas_mes_agg(df_altas,tipo=0)"
   ]
  },
  {
   "cell_type": "code",
   "execution_count": 16,
   "metadata": {},
   "outputs": [],
   "source": [
    "x = df[df['Family']=='X UCOM']\n",
    "x.to_csv('../x.csv ',encoding='CP1252')"
   ]
  },
  {
   "cell_type": "code",
   "execution_count": 4,
   "metadata": {},
   "outputs": [],
   "source": [
    "# functions.ventas(df)"
   ]
  },
  {
   "cell_type": "code",
   "execution_count": 5,
   "metadata": {},
   "outputs": [],
   "source": [
    "# functions.altas(df,df_altas )"
   ]
  },
  {
   "cell_type": "code",
   "execution_count": 7,
   "metadata": {},
   "outputs": [],
   "source": [
    "# functions.bajas(df,df_altas)"
   ]
  },
  {
   "cell_type": "code",
   "execution_count": 8,
   "metadata": {},
   "outputs": [],
   "source": [
    "mig_df=functions.migBase(cur)"
   ]
  },
  {
   "cell_type": "code",
   "execution_count": 23,
   "metadata": {},
   "outputs": [],
   "source": [
    "migin, migout = functions.mig_producto_mes(mig_df)"
   ]
  },
  {
   "cell_type": "code",
   "execution_count": 14,
   "metadata": {},
   "outputs": [],
   "source": []
  },
  {
   "cell_type": "code",
   "execution_count": 15,
   "metadata": {},
   "outputs": [],
   "source": []
  },
  {
   "cell_type": "code",
   "execution_count": 25,
   "metadata": {},
   "outputs": [],
   "source": [
    "migin.reset_index(inplace=True)\n",
    "migin['index'] = migin['canal_venta']+'_'+migin['product_name']\n",
    "migin.drop(columns=['canal_venta','Family','product_name'],inplace=True)\n",
    "migin.set_index(['index'],inplace=True)"
   ]
  },
  {
   "cell_type": "code",
   "execution_count": 26,
   "metadata": {},
   "outputs": [
    {
     "data": {
      "text/html": [
       "<div>\n",
       "<style scoped>\n",
       "    .dataframe tbody tr th:only-of-type {\n",
       "        vertical-align: middle;\n",
       "    }\n",
       "\n",
       "    .dataframe tbody tr th {\n",
       "        vertical-align: top;\n",
       "    }\n",
       "\n",
       "    .dataframe thead th {\n",
       "        text-align: right;\n",
       "    }\n",
       "</style>\n",
       "<table border=\"1\" class=\"dataframe\">\n",
       "  <thead>\n",
       "    <tr style=\"text-align: right;\">\n",
       "      <th></th>\n",
       "      <th>level_0</th>\n",
       "      <th>2018-10</th>\n",
       "      <th>2018-11</th>\n",
       "      <th>2018-12</th>\n",
       "      <th>2019-01</th>\n",
       "      <th>2019-02</th>\n",
       "      <th>2019-03</th>\n",
       "      <th>2019-04</th>\n",
       "      <th>2019-05</th>\n",
       "      <th>2019-06</th>\n",
       "      <th>2019-07</th>\n",
       "      <th>2019-08</th>\n",
       "      <th>2019-09</th>\n",
       "      <th>2019-10</th>\n",
       "      <th>2019-11</th>\n",
       "      <th>2019-12</th>\n",
       "      <th>2020-01</th>\n",
       "    </tr>\n",
       "    <tr>\n",
       "      <th>index</th>\n",
       "      <th></th>\n",
       "      <th></th>\n",
       "      <th></th>\n",
       "      <th></th>\n",
       "      <th></th>\n",
       "      <th></th>\n",
       "      <th></th>\n",
       "      <th></th>\n",
       "      <th></th>\n",
       "      <th></th>\n",
       "      <th></th>\n",
       "      <th></th>\n",
       "      <th></th>\n",
       "      <th></th>\n",
       "      <th></th>\n",
       "      <th></th>\n",
       "      <th></th>\n",
       "    </tr>\n",
       "  </thead>\n",
       "  <tbody>\n",
       "    <tr>\n",
       "      <td>DHO_X Fiber 100 - neba</td>\n",
       "      <td>0</td>\n",
       "      <td>0</td>\n",
       "      <td>0</td>\n",
       "      <td>0</td>\n",
       "      <td>0</td>\n",
       "      <td>0</td>\n",
       "      <td>0</td>\n",
       "      <td>1</td>\n",
       "      <td>0</td>\n",
       "      <td>0</td>\n",
       "      <td>0</td>\n",
       "      <td>0</td>\n",
       "      <td>0</td>\n",
       "      <td>0</td>\n",
       "      <td>0</td>\n",
       "      <td>0</td>\n",
       "      <td>0</td>\n",
       "    </tr>\n",
       "    <tr>\n",
       "      <td>DHO_Teamwork+PBX</td>\n",
       "      <td>1</td>\n",
       "      <td>0</td>\n",
       "      <td>0</td>\n",
       "      <td>0</td>\n",
       "      <td>0</td>\n",
       "      <td>0</td>\n",
       "      <td>0</td>\n",
       "      <td>0</td>\n",
       "      <td>11</td>\n",
       "      <td>0</td>\n",
       "      <td>2</td>\n",
       "      <td>1</td>\n",
       "      <td>1</td>\n",
       "      <td>3</td>\n",
       "      <td>1</td>\n",
       "      <td>0</td>\n",
       "      <td>1</td>\n",
       "    </tr>\n",
       "    <tr>\n",
       "      <td>IT integrator_Teamwork+PBX</td>\n",
       "      <td>2</td>\n",
       "      <td>0</td>\n",
       "      <td>0</td>\n",
       "      <td>0</td>\n",
       "      <td>0</td>\n",
       "      <td>0</td>\n",
       "      <td>0</td>\n",
       "      <td>0</td>\n",
       "      <td>0</td>\n",
       "      <td>1</td>\n",
       "      <td>0</td>\n",
       "      <td>0</td>\n",
       "      <td>0</td>\n",
       "      <td>0</td>\n",
       "      <td>0</td>\n",
       "      <td>0</td>\n",
       "      <td>0</td>\n",
       "    </tr>\n",
       "  </tbody>\n",
       "</table>\n",
       "</div>"
      ],
      "text/plain": [
       "                            level_0  2018-10  2018-11  2018-12  2019-01  \\\n",
       "index                                                                     \n",
       "DHO_X Fiber 100 - neba            0        0        0        0        0   \n",
       "DHO_Teamwork+PBX                  1        0        0        0        0   \n",
       "IT integrator_Teamwork+PBX        2        0        0        0        0   \n",
       "\n",
       "                            2019-02  2019-03  2019-04  2019-05  2019-06  \\\n",
       "index                                                                     \n",
       "DHO_X Fiber 100 - neba            0        0        1        0        0   \n",
       "DHO_Teamwork+PBX                  0        0        0       11        0   \n",
       "IT integrator_Teamwork+PBX        0        0        0        0        1   \n",
       "\n",
       "                            2019-07  2019-08  2019-09  2019-10  2019-11  \\\n",
       "index                                                                     \n",
       "DHO_X Fiber 100 - neba            0        0        0        0        0   \n",
       "DHO_Teamwork+PBX                  2        1        1        3        1   \n",
       "IT integrator_Teamwork+PBX        0        0        0        0        0   \n",
       "\n",
       "                            2019-12  2020-01  \n",
       "index                                         \n",
       "DHO_X Fiber 100 - neba            0        0  \n",
       "DHO_Teamwork+PBX                  0        1  \n",
       "IT integrator_Teamwork+PBX        0        0  "
      ]
     },
     "execution_count": 26,
     "metadata": {},
     "output_type": "execute_result"
    }
   ],
   "source": [
    "migin"
   ]
  },
  {
   "cell_type": "code",
   "execution_count": 33,
   "metadata": {},
   "outputs": [
    {
     "data": {
      "text/plain": [
       "'Portable 20'"
      ]
     },
     "execution_count": 33,
     "metadata": {},
     "output_type": "execute_result"
    }
   ],
   "source": [
    "getVelocityFrom('20')"
   ]
  }
 ],
 "metadata": {
  "kernelspec": {
   "display_name": "Python 3",
   "language": "python",
   "name": "python3"
  },
  "language_info": {
   "codemirror_mode": {
    "name": "ipython",
    "version": 3
   },
   "file_extension": ".py",
   "mimetype": "text/x-python",
   "name": "python",
   "nbconvert_exporter": "python",
   "pygments_lexer": "ipython3",
   "version": "3.7.3"
  }
 },
 "nbformat": 4,
 "nbformat_minor": 2
}
